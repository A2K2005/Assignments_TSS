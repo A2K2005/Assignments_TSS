{
  "nbformat": 4,
  "nbformat_minor": 0,
  "metadata": {
    "colab": {
      "provenance": [],
      "authorship_tag": "ABX9TyP9MmD8FEzTp6nikIAf9GBp",
      "include_colab_link": true
    },
    "kernelspec": {
      "name": "python3",
      "display_name": "Python 3"
    },
    "language_info": {
      "name": "python"
    }
  },
  "cells": [
    {
      "cell_type": "markdown",
      "metadata": {
        "id": "view-in-github",
        "colab_type": "text"
      },
      "source": [
        "<a href=\"https://colab.research.google.com/github/A2K2005/Assignments_TSS/blob/main/Assignment_5.ipynb\" target=\"_parent\"><img src=\"https://colab.research.google.com/assets/colab-badge.svg\" alt=\"Open In Colab\"/></a>"
      ]
    },
    {
      "cell_type": "markdown",
      "source": [
        "---\n",
        "# R Programming\n",
        "\n",
        "\n",
        "---\n",
        "\n"
      ],
      "metadata": {
        "id": "oYaD7yvQpquM"
      }
    },
    {
      "cell_type": "markdown",
      "source": [
        "1.    Create a file that contains 1000 lines of random strings."
      ],
      "metadata": {
        "id": "McgkQ44FpqlL"
      }
    },
    {
      "cell_type": "code",
      "execution_count": null,
      "metadata": {
        "id": "JDe_SXlPkgys"
      },
      "outputs": [],
      "source": [
        "file_path <- \"random_strings.txt\"\n",
        "\n",
        "file_conn <- file(file_path, \"w\")\n",
        "\n",
        "for (i in 1:1000) {\n",
        "  random_string <- paste(sample(letters, 10, replace = TRUE), collapse = \"\")\n",
        "  writeLines(random_string, file_conn)\n",
        "}\n",
        "\n",
        "close(file_conn)"
      ]
    },
    {
      "cell_type": "markdown",
      "source": [
        "2.   Create a random dataset of 100 rows and 30 columns. All the values are defined between [1,200].  Perform \n",
        "the following operations:"
      ],
      "metadata": {
        "id": "eGhnvZImqEOs"
      }
    },
    {
      "cell_type": "code",
      "source": [
        "set.seed(42)\n",
        "\n",
        "dataset <- matrix(runif(100 * 30, min = 1, max = 200), nrow = 100)\n",
        "dataset <- as.data.frame(dataset)"
      ],
      "metadata": {
        "id": "PuVM4VlMqEug"
      },
      "execution_count": null,
      "outputs": []
    },
    {
      "cell_type": "markdown",
      "source": [
        "\n",
        "\n",
        "*   Replace all the values with NA in the dataset defined between [10, 60]. Print the count of number \n",
        "rows having missing values.\n",
        "\n"
      ],
      "metadata": {
        "id": "mdiVlHe6qE5Q"
      }
    },
    {
      "cell_type": "code",
      "source": [
        "dataset[10:60, ] <- NA\n",
        "missing_values_count <- sum(rowSums(is.na(dataset)) > 0)\n",
        "print(paste(\"Number of rows with missing values:\", missing_values_count))"
      ],
      "metadata": {
        "id": "tTGygi9lqFB2"
      },
      "execution_count": null,
      "outputs": []
    },
    {
      "cell_type": "markdown",
      "source": [
        "\n",
        "\n",
        "*   Replace all the NA values with the average of the column value. \n",
        "\n"
      ],
      "metadata": {
        "id": "7KwtvHQGqFLi"
      }
    },
    {
      "cell_type": "code",
      "source": [
        "dataset <- apply(dataset, 2, function(x) replace(x, is.na(x), mean(x, na.rm = TRUE)))\n"
      ],
      "metadata": {
        "id": "_gnqeVc8qFTS"
      },
      "execution_count": null,
      "outputs": []
    },
    {
      "cell_type": "markdown",
      "source": [
        "\n",
        "\n",
        "*   Find the Pearson correlation among all the columns and plot heat map. Also select those columns \n",
        "having correlation <=0.7.\n"
      ],
      "metadata": {
        "id": "Z_vp-mgGqFZG"
      }
    },
    {
      "cell_type": "code",
      "source": [
        "correlation_matrix <- cor(dataset, use = \"pairwise.complete.obs\")\n",
        "correlation_threshold <- 0.7\n",
        "lower_correlation_indices <- which(upper.tri(correlation_matrix) & abs(correlation_matrix) <= correlation_threshold, arr.ind = TRUE)\n",
        "lower_correlation_columns <- unique(c(lower_correlation_indices[, 1], lower_correlation_indices[, 2]))\n",
        "\n",
        "heatmap(correlation_matrix, col = colorRampPalette(c(\"#F8766D\", \"#FFFFFF\", \"#00BFC4\"))(100))"
      ],
      "metadata": {
        "id": "sHGRMrsVqFiP"
      },
      "execution_count": null,
      "outputs": []
    },
    {
      "cell_type": "markdown",
      "source": [
        "\n",
        "\n",
        "*   Normalize all the values in the dataset between 0 and 10.\n",
        "\n"
      ],
      "metadata": {
        "id": "zO2v9oV0qKbu"
      }
    },
    {
      "cell_type": "code",
      "source": [
        "normalized_dataset <- scale(dataset, center = FALSE, scale = apply(dataset, 2, max, na.rm = TRUE) / 10)"
      ],
      "metadata": {
        "id": "4B8jTZKoqKl9"
      },
      "execution_count": null,
      "outputs": []
    },
    {
      "cell_type": "markdown",
      "source": [
        "\n",
        "\n",
        "*   Replace all the values in the dataset with 1 if value <=0.5 else with 0.\n",
        "\n"
      ],
      "metadata": {
        "id": "b-vsU_pvqKsr"
      }
    },
    {
      "cell_type": "code",
      "source": [
        "dataset_binary <- ifelse(dataset <= 0.5, 1, 0)\n"
      ],
      "metadata": {
        "id": "may7gxQ9qK1c"
      },
      "execution_count": null,
      "outputs": []
    },
    {
      "cell_type": "markdown",
      "source": [
        "3.  Create a random dataset of 500 rows and 10 columns. \n",
        "\n",
        "Columns 1 to 4 are defined between [-10, 10]; \n",
        "\n",
        "Columns 5 to 8 are defined between [10, 20]; \n",
        "\n",
        "Columns 9 to 10 are defined between [-100, 100]. \n",
        "\n",
        "Apply following clustering algorithms; determine the optimal number of clusters and plot distance metric \n",
        "graph using each algorithm."
      ],
      "metadata": {
        "id": "rAmhiZB5tEwO"
      }
    },
    {
      "cell_type": "code",
      "source": [
        "set.seed(42)\n",
        "dataset <- matrix(NA, nrow = 500, ncol = 10)\n",
        "dataset[, 1:4] <- runif(500, -10, 10)\n",
        "dataset[, 5:8] <- runif(500, 10, 20)\n",
        "dataset[, 9:10] <- runif(500, -100, 100)"
      ],
      "metadata": {
        "id": "xF-Fys3PtQmC"
      },
      "execution_count": null,
      "outputs": []
    },
    {
      "cell_type": "markdown",
      "source": [
        "\n",
        "\n",
        "*   K-Mean clustering\n",
        "\n"
      ],
      "metadata": {
        "id": "aeIojR6xtVJn"
      }
    },
    {
      "cell_type": "code",
      "source": [
        "wss <- sapply(1:10, function(k) kmeans(dataset, centers = k)$tot.withinss)\n",
        "plot(1:10, wss, type = \"b\", xlab = \"Number of Clusters\", ylab = \"Within-cluster Sum of Squares\",\n",
        "     main = \"Elbow Method for K-Means Clustering\")\n",
        "\n",
        "k <- 6\n",
        "kmeans_result <- kmeans(dataset, centers = k)\n",
        "cluster_labels_kmeans <- kmeans_result$cluster\n",
        "\n",
        "dist_matrix_kmeans <- dist(dataset)\n",
        "plot(dist_matrix_kmeans, main = \"Distance Metric Graph\")"
      ],
      "metadata": {
        "id": "si27KBGJtVqx"
      },
      "execution_count": null,
      "outputs": []
    },
    {
      "cell_type": "markdown",
      "source": [
        "\n",
        "\n",
        "*   Hierarchical clustering\n",
        "\n"
      ],
      "metadata": {
        "id": "CjqQu883tW7_"
      }
    },
    {
      "cell_type": "code",
      "source": [
        "dendrogram <- hclust(dist(dataset))\n",
        "plot(dendrogram, main = \"Dendrogram for Hierarchical Clustering\")\n",
        "\n",
        "k <- 6\n",
        "hierarchical_result <- cutree(dendrogram, k = k)\n",
        "cluster_labels_hierarchical <- hierarchical_result"
      ],
      "metadata": {
        "id": "GaHCOUjYtXUG"
      },
      "execution_count": null,
      "outputs": []
    },
    {
      "cell_type": "markdown",
      "source": [
        "\n",
        "\n",
        "4.   Create a random dataset of 600 rows and 15 columns. All the values are defined between [-100,100]. \n",
        "\n",
        "Perform the following operations:\n",
        "\n"
      ],
      "metadata": {
        "id": "0BX9-h2UtfCC"
      }
    },
    {
      "cell_type": "code",
      "source": [
        "dataset <- matrix(runif(600 * 15, min = -100, max = 100), nrow = 600)\n",
        "dataset <- as.data.frame(dataset)\n"
      ],
      "metadata": {
        "id": "Oxzjz3SWtivo"
      },
      "execution_count": null,
      "outputs": []
    },
    {
      "cell_type": "markdown",
      "source": [
        "\n",
        "\n",
        "*   Plot scatter graph between Column 5 and Column 6.\n",
        "\n"
      ],
      "metadata": {
        "id": "68NVd6lhti7S"
      }
    },
    {
      "cell_type": "code",
      "source": [
        "plot(dataset[, 5], dataset[, 6], xlab = \"Column 5\", ylab = \"Column 6\",\n",
        "     main = \"Scatter Plot: Column 5 vs Column 6\")"
      ],
      "metadata": {
        "id": "X-VEH84YtjBu"
      },
      "execution_count": null,
      "outputs": []
    },
    {
      "cell_type": "markdown",
      "source": [
        "\n",
        "\n",
        "*   Plot histogram of each column in single graph.\n",
        "\n"
      ],
      "metadata": {
        "id": "Af7IFiVgtjH2"
      }
    },
    {
      "cell_type": "code",
      "source": [
        "par(mfrow = c(4, 4))  # Set the layout for the subplots (adjust as needed)\n",
        "for (i in 1:15) {\n",
        "  hist(dataset[, i], main = paste(\"Column\", i), xlab = \"\", ylab = \"Frequency\")\n",
        "}"
      ],
      "metadata": {
        "id": "QvE8crsatjNq"
      },
      "execution_count": null,
      "outputs": []
    },
    {
      "cell_type": "markdown",
      "source": [
        "\n",
        "\n",
        "*    Plot the Box plot of each column in single graph.\n",
        "\n"
      ],
      "metadata": {
        "id": "zOZbc35VtjS_"
      }
    },
    {
      "cell_type": "code",
      "source": [
        "par(mfrow = c(4, 4))  # Set the layout for the subplots (adjust as needed)\n",
        "for (i in 1:15) {\n",
        "  boxplot(dataset[, i], main = paste(\"Column\", i))\n",
        "}"
      ],
      "metadata": {
        "id": "gx-dhAWztjZx"
      },
      "execution_count": null,
      "outputs": []
    },
    {
      "cell_type": "markdown",
      "source": [
        "\n",
        "\n",
        "5.   Create a random dataset of 500 rows and 5 columns: \n",
        "\n",
        "All the values are defined between [5,10]. \n",
        "\n",
        "Perform the following operations:\n",
        "\n"
      ],
      "metadata": {
        "id": "gLVtAHuJuMwB"
      }
    },
    {
      "cell_type": "code",
      "source": [
        "dataset <- matrix(runif(500 * 5, min = 5, max = 10), nrow = 500)\n",
        "dataset <- as.data.frame(dataset)\n"
      ],
      "metadata": {
        "id": "XLIC4UIsuM95"
      },
      "execution_count": null,
      "outputs": []
    },
    {
      "cell_type": "markdown",
      "source": [
        "\n",
        "\n",
        "*   Perform t-Test on each column.\n",
        "\n"
      ],
      "metadata": {
        "id": "juOdfGhmuNFD"
      }
    },
    {
      "cell_type": "code",
      "source": [
        "t_test_results <- lapply(dataset, function(col) t.test(col))\n"
      ],
      "metadata": {
        "id": "QAU_e4lsuNKU"
      },
      "execution_count": null,
      "outputs": []
    },
    {
      "cell_type": "markdown",
      "source": [
        "\n",
        "\n",
        "*   Perform Wilcoxon Signed Rank Test on each column.\n",
        "\n"
      ],
      "metadata": {
        "id": "cPTuR1MquNT4"
      }
    },
    {
      "cell_type": "code",
      "source": [
        "wilcox_test_results <- lapply(dataset, function(col) wilcox.test(col))\n"
      ],
      "metadata": {
        "id": "xvvac1yUuNZ5"
      },
      "execution_count": null,
      "outputs": []
    },
    {
      "cell_type": "markdown",
      "source": [
        "\n",
        "\n",
        "*   Perform Two Sample t-Test and Wilcoxon Rank Sum Test on Column 3 and Column 4\n",
        "\n"
      ],
      "metadata": {
        "id": "-orjurF8uOH-"
      }
    },
    {
      "cell_type": "code",
      "source": [
        "column_3 <- dataset[, 3]\n",
        "column_4 <- dataset[, 4]\n",
        "\n",
        "t_test_column_3_4 <- t.test(column_3, column_4)\n",
        "wilcox_test_column_3_4 <- wilcox.test(column_3, column_4)\n",
        "\n",
        "print(t_test_results)\n",
        "print(wilcox_test_results)\n",
        "print(t_test_column_3_4)\n",
        "print(wilcox_test_column_3_4)"
      ],
      "metadata": {
        "id": "3HQua8pVuOOG"
      },
      "execution_count": null,
      "outputs": []
    }
  ]
}