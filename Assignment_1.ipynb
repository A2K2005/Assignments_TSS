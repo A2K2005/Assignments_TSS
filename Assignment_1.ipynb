{
  "nbformat": 4,
  "nbformat_minor": 0,
  "metadata": {
    "colab": {
      "provenance": [],
      "authorship_tag": "ABX9TyOGNLz9nAK9rmlkB/PO9m06",
      "include_colab_link": true
    },
    "kernelspec": {
      "name": "python3",
      "display_name": "Python 3"
    },
    "language_info": {
      "name": "python"
    }
  },
  "cells": [
    {
      "cell_type": "markdown",
      "metadata": {
        "id": "view-in-github",
        "colab_type": "text"
      },
      "source": [
        "<a href=\"https://colab.research.google.com/github/A2K2005/Assignments_TSS/blob/main/Assignment_1.ipynb\" target=\"_parent\"><img src=\"https://colab.research.google.com/assets/colab-badge.svg\" alt=\"Open In Colab\"/></a>"
      ]
    },
    {
      "cell_type": "markdown",
      "source": [
        "# **Python Assignment**"
      ],
      "metadata": {
        "id": "IXL1qemhX-QR"
      }
    },
    {
      "cell_type": "markdown",
      "source": [
        "Q1) L is a list defined as L=[11,12,13,14].\n",
        "\n"
      ],
      "metadata": {
        "id": "fH-bfoiAYGE_"
      }
    },
    {
      "cell_type": "markdown",
      "source": [
        "\n",
        "\n",
        "1. WAP to add 50 and 60 to L.\n",
        "\n"
      ],
      "metadata": {
        "id": "jEEVmgtOY41N"
      }
    },
    {
      "cell_type": "code",
      "execution_count": null,
      "metadata": {
        "id": "U3eXKHVBX5cY"
      },
      "outputs": [],
      "source": [
        "L = [11, 12, 13, 14]\n",
        "L.append(50)\n",
        "L.append(60)\n",
        "print(L)"
      ]
    },
    {
      "cell_type": "markdown",
      "source": [
        "2.   WAP to remove 11 and 13 from L.\n",
        "\n"
      ],
      "metadata": {
        "id": "Gr8-tw0zY8s3"
      }
    },
    {
      "cell_type": "code",
      "source": [
        "L = [11, 12, 13, 14]\n",
        "L.remove(11)\n",
        "L.remove(13)\n",
        "print(L)"
      ],
      "metadata": {
        "id": "AOL7TyGzZKP5"
      },
      "execution_count": null,
      "outputs": []
    },
    {
      "cell_type": "markdown",
      "source": [
        "\n",
        "3.  WAP to sort L in ascending order.\n",
        "\n",
        "\n",
        "\n",
        "\n",
        "\n",
        "\n"
      ],
      "metadata": {
        "id": "8E5LzHwjZLFN"
      }
    },
    {
      "cell_type": "code",
      "source": [
        "L = [11, 12, 13, 14]\n",
        "L.sort()\n",
        "print(L)"
      ],
      "metadata": {
        "id": "vTBRyggzZbuS"
      },
      "execution_count": null,
      "outputs": []
    },
    {
      "cell_type": "markdown",
      "source": [
        "4.  WAP to sort L in descending order.\n"
      ],
      "metadata": {
        "id": "ASTklIPJZcJ8"
      }
    },
    {
      "cell_type": "code",
      "source": [
        "L = [11, 12, 13, 14]\n",
        "L.sort(reverse=True)\n",
        "print(L)"
      ],
      "metadata": {
        "id": "MUxeXJTjZfKr"
      },
      "execution_count": null,
      "outputs": []
    },
    {
      "cell_type": "markdown",
      "source": [
        "5.  WAP to search for 13 in L.\n"
      ],
      "metadata": {
        "id": "7zwESRRSZfW0"
      }
    },
    {
      "cell_type": "code",
      "source": [
        "L = [11, 12, 13, 14]\n",
        "if 13 in L:\n",
        "    print(\"13 is present.\")\n",
        "else:\n",
        "    print(\"13 is not present.\")"
      ],
      "metadata": {
        "id": "_fkvGIGBZkRt",
        "colab": {
          "base_uri": "https://localhost:8080/"
        },
        "outputId": "0375dbbf-67e9-47b8-8a41-8708f9fa091e"
      },
      "execution_count": 1,
      "outputs": [
        {
          "output_type": "stream",
          "name": "stdout",
          "text": [
            "13 is present.\n"
          ]
        }
      ]
    },
    {
      "cell_type": "markdown",
      "source": [
        "6.  WAP to count the number of elements present in L.\n"
      ],
      "metadata": {
        "id": "V9ObZqA7Zkdi"
      }
    },
    {
      "cell_type": "code",
      "source": [
        "L = [11, 12, 13, 14]\n",
        "count = len(L)\n",
        "print(\"Number of Elements in L are:\", count)"
      ],
      "metadata": {
        "id": "-bz8fTe3ZyhS"
      },
      "execution_count": null,
      "outputs": []
    },
    {
      "cell_type": "markdown",
      "source": [
        "7.  WAP to sum all the elements in L.\n"
      ],
      "metadata": {
        "id": "NMkbRsggZyu7"
      }
    },
    {
      "cell_type": "code",
      "source": [
        "L = [11, 12, 13, 14]\n",
        "total_sum = sum(L)\n",
        "print(\"Sum of all elements in L:\", total_sum)"
      ],
      "metadata": {
        "id": "uTbtFVQ2aQ7H"
      },
      "execution_count": null,
      "outputs": []
    },
    {
      "cell_type": "markdown",
      "source": [
        "8.  WAP to sum all ODD numbers in L.\n"
      ],
      "metadata": {
        "id": "qm6akzdmaRUn"
      }
    },
    {
      "cell_type": "code",
      "source": [
        "L = [11, 12, 13, 14]\n",
        "odd_sum = sum(num for num in L if num % 2 != 0)\n",
        "print(\"Sum of all odd numbers in L:\", odd_sum)"
      ],
      "metadata": {
        "id": "QnRoTnV3aaP8",
        "colab": {
          "base_uri": "https://localhost:8080/"
        },
        "outputId": "e63bb340-78b9-4508-b555-1f24d3c17d1a"
      },
      "execution_count": 2,
      "outputs": [
        {
          "output_type": "stream",
          "name": "stdout",
          "text": [
            "Sum of all odd numbers in L: 24\n"
          ]
        }
      ]
    },
    {
      "cell_type": "markdown",
      "source": [
        "9.  WAP to sum all EVEN numbers in L.\n"
      ],
      "metadata": {
        "id": "JHl0dQAUaaaK"
      }
    },
    {
      "cell_type": "code",
      "source": [
        "L = [11, 12, 13, 14]\n",
        "even_sum = sum(num for num in L if num % 2 == 0)\n",
        "print(\"Sum of all even numbers in L:\", even_sum)"
      ],
      "metadata": {
        "id": "2i3qwwaFadug"
      },
      "execution_count": null,
      "outputs": []
    },
    {
      "cell_type": "markdown",
      "source": [
        "10.  WAP to sum all PRIME numbers in L.\n"
      ],
      "metadata": {
        "id": "QNZrse5yad02"
      }
    },
    {
      "cell_type": "code",
      "source": [
        "def is_prime(num):\n",
        "    if num < 2:\n",
        "        return False\n",
        "    for i in range(2, int(num ** 0.5) + 1):\n",
        "        if num % i == 0:\n",
        "            return False\n",
        "    return True\n",
        "\n",
        "L = [11, 12, 13, 14]\n",
        "prime_sum = sum(num for num in L if is_prime(num))\n",
        "print(\"Sum of all the prime numbers in L = \", prime_sum)"
      ],
      "metadata": {
        "id": "sHNifumDaiqY"
      },
      "execution_count": null,
      "outputs": []
    },
    {
      "cell_type": "markdown",
      "source": [
        "11.  WAP to clear all the elements in L.\n"
      ],
      "metadata": {
        "id": "1QQYALCMai2j"
      }
    },
    {
      "cell_type": "code",
      "source": [
        "import time\n",
        "\n",
        "start_time = time.time()\n",
        "\n",
        "end_time = time.time()\n",
        "\n",
        "elapsed_time = end_time - start_time\n",
        "\n",
        "print(\"Time taken:\", elapsed_time, \"seconds\")"
      ],
      "metadata": {
        "id": "csPSEJK-amcZ"
      },
      "execution_count": null,
      "outputs": []
    },
    {
      "cell_type": "markdown",
      "source": [
        "12.  WAP to delete L.\n"
      ],
      "metadata": {
        "id": "ykdTqpVcamnE"
      }
    },
    {
      "cell_type": "code",
      "source": [
        "L = [11, 12, 13, 14]\n",
        "del L[2]\n",
        "print (\"List After Deleting =\", L)"
      ],
      "metadata": {
        "id": "QTcFHCGyasdA",
        "colab": {
          "base_uri": "https://localhost:8080/"
        },
        "outputId": "ae46fd7a-d6c8-496d-fa4a-a197f3101102"
      },
      "execution_count": 5,
      "outputs": [
        {
          "output_type": "stream",
          "name": "stdout",
          "text": [
            "List After Deleting = [11, 12, 14]\n"
          ]
        }
      ]
    },
    {
      "cell_type": "markdown",
      "source": [
        "Q2) D is a dictionary defined as D= {1:5.6, 2:7.8, 3:6.6, 4:8.7, 5:7.7}."
      ],
      "metadata": {
        "id": "1a0GO8MfaxjX"
      }
    },
    {
      "cell_type": "markdown",
      "source": [
        "1.  WAP to add new entry in D; key=8 and value is 8.8"
      ],
      "metadata": {
        "id": "TcQeYfFua35M"
      }
    },
    {
      "cell_type": "code",
      "source": [
        "D = {1: 5.6, 2: 7.8, 3: 6.6, 4: 8.7, 5: 7.7}\n",
        "D[8] = 8.8"
      ],
      "metadata": {
        "id": "3936M_S3bCiA"
      },
      "execution_count": 9,
      "outputs": []
    },
    {
      "cell_type": "markdown",
      "source": [
        "2.  WAP to remove key=2"
      ],
      "metadata": {
        "id": "gD6UmulsbCqr"
      }
    },
    {
      "cell_type": "code",
      "source": [
        "D = {1: 5.6, 2: 7.8, 3: 6.6, 4: 8.7, 5: 7.7}\n",
        "del D[2]"
      ],
      "metadata": {
        "id": "2xj9JkIjbFw3"
      },
      "execution_count": 10,
      "outputs": []
    },
    {
      "cell_type": "markdown",
      "source": [
        "3. WAP to check weather 6 key is present in D."
      ],
      "metadata": {
        "id": "Z0g58DX_bF25"
      }
    },
    {
      "cell_type": "code",
      "source": [
        "D = {1: 5.6, 2: 7.8, 3: 6.6, 4: 8.7, 5: 7.7}\n",
        "key_present = 6 in D"
      ],
      "metadata": {
        "id": "21jpo5CIbMNV"
      },
      "execution_count": null,
      "outputs": []
    },
    {
      "cell_type": "markdown",
      "source": [
        "4. WAP to count the number of elements present in D."
      ],
      "metadata": {
        "id": "SmIv__6qbMhp"
      }
    },
    {
      "cell_type": "code",
      "source": [
        "D = {1: 5.6, 2: 7.8, 3: 6.6, 4: 8.7, 5: 7.7}\n",
        "num_elements = len(D)"
      ],
      "metadata": {
        "id": "HSlSK3tmbQkI"
      },
      "execution_count": null,
      "outputs": []
    },
    {
      "cell_type": "markdown",
      "source": [
        "5. WAP to add all the values present D."
      ],
      "metadata": {
        "id": "X5JWzH0ibQs9"
      }
    },
    {
      "cell_type": "code",
      "source": [
        "D = {1: 5.6, 2: 7.8, 3: 6.6, 4: 8.7, 5: 7.7}\n",
        "total_sum = sum(D.values())"
      ],
      "metadata": {
        "id": "L8rfmkqObZIp"
      },
      "execution_count": 13,
      "outputs": []
    },
    {
      "cell_type": "markdown",
      "source": [
        "6. WAP to update the value of 3 to 7.1"
      ],
      "metadata": {
        "id": "GxufafO3bZQy"
      }
    },
    {
      "cell_type": "code",
      "source": [
        "D = {1: 5.6, 2: 7.8, 3: 6.6, 4: 8.7, 5: 7.7}\n",
        "D[3] = 7.1"
      ],
      "metadata": {
        "id": "l0ksudNebhz6"
      },
      "execution_count": 14,
      "outputs": []
    },
    {
      "cell_type": "markdown",
      "source": [
        "7. WAP to clear the dictionary."
      ],
      "metadata": {
        "id": "6qFv7d5Nbh88"
      }
    },
    {
      "cell_type": "code",
      "source": [
        "D = {1: 5.6, 2: 7.8, 3: 6.6, 4: 8.7, 5: 7.7}\n",
        "D.clear()"
      ],
      "metadata": {
        "id": "d_SwA9vobt4I"
      },
      "execution_count": 15,
      "outputs": []
    },
    {
      "cell_type": "markdown",
      "source": [
        "Q3) S1 is a set defined as S1= [10, 20, 30, 40, 50, 60].\n",
        "\n",
        "  S2 is a set defined as S2= [40, 50, 60, 70, 80, 90]"
      ],
      "metadata": {
        "id": "6qd5zxjcbzYC"
      }
    },
    {
      "cell_type": "markdown",
      "source": [
        "1.  WAP to add 55 and 66 in Set S1."
      ],
      "metadata": {
        "id": "Wzd1P2AwcSVk"
      }
    },
    {
      "cell_type": "code",
      "source": [
        "S1 = {10, 20, 30, 40, 50, 60}\n",
        "S2 = {40, 50, 60, 70, 80, 90}\n",
        "\n",
        "S1.add(55)\n",
        "S1.add(66)"
      ],
      "metadata": {
        "id": "mFMHNeHucZF3"
      },
      "execution_count": null,
      "outputs": []
    },
    {
      "cell_type": "markdown",
      "source": [
        "2.  WAP to remove 10 and 30 from Set S1."
      ],
      "metadata": {
        "id": "V6BuXkzTcZOX"
      }
    },
    {
      "cell_type": "code",
      "source": [
        "S1 = {10, 20, 30, 40, 50, 60}\n",
        "S2 = {40, 50, 60, 70, 80, 90}\n",
        "\n",
        "S1.remove(10)\n",
        "S1.remove(30)"
      ],
      "metadata": {
        "id": "TxZiGN-Wcdsy"
      },
      "execution_count": null,
      "outputs": []
    },
    {
      "cell_type": "markdown",
      "source": [
        "3.  WAP to check whether 40 is present in S1."
      ],
      "metadata": {
        "id": "5OO2uBFrcd4Q"
      }
    },
    {
      "cell_type": "code",
      "source": [
        "S1 = {10, 20, 30, 40, 50, 60}\n",
        "S2 = {40, 50, 60, 70, 80, 90}\n",
        "\n",
        "is_present = 40 in S1"
      ],
      "metadata": {
        "id": "_RXSNLGRciP-"
      },
      "execution_count": null,
      "outputs": []
    },
    {
      "cell_type": "markdown",
      "source": [
        "4.  WAP to find the union between S1 and S2."
      ],
      "metadata": {
        "id": "IZvPnlcRcidM"
      }
    },
    {
      "cell_type": "code",
      "source": [
        "S1 = {10, 20, 30, 40, 50, 60}\n",
        "S2 = {40, 50, 60, 70, 80, 90}\n",
        "\n",
        "union_set = S1.union(S2)"
      ],
      "metadata": {
        "id": "_D27WrObcl-m"
      },
      "execution_count": null,
      "outputs": []
    },
    {
      "cell_type": "markdown",
      "source": [
        "5.  WAP to find the intersection between S1 and S2."
      ],
      "metadata": {
        "id": "TG1UpIr4cmFN"
      }
    },
    {
      "cell_type": "code",
      "source": [
        "S1 = {10, 20, 30, 40, 50, 60}\n",
        "S2 = {40, 50, 60, 70, 80, 90}\n",
        "\n",
        "intersection_set = S1.intersection(S2)"
      ],
      "metadata": {
        "id": "w11J62S5cpyS"
      },
      "execution_count": null,
      "outputs": []
    },
    {
      "cell_type": "markdown",
      "source": [
        "6.  WAP to find the S1 - S2."
      ],
      "metadata": {
        "id": "rq9ku0Ckcp50"
      }
    },
    {
      "cell_type": "code",
      "source": [
        "S1 = {10, 20, 30, 40, 50, 60}\n",
        "S2 = {40, 50, 60, 70, 80, 90}\n",
        "\n",
        "difference_set = S1.difference(S2)\n"
      ],
      "metadata": {
        "id": "ZAQo6sh9cuz3"
      },
      "execution_count": 16,
      "outputs": []
    },
    {
      "cell_type": "markdown",
      "source": [
        "Q4) Write the following program."
      ],
      "metadata": {
        "id": "N3GEc6a4cyK_"
      }
    },
    {
      "cell_type": "markdown",
      "source": [
        "1. WAP to print 100 random strings whose length between 6 and 8."
      ],
      "metadata": {
        "id": "9uLbem5bc1gH"
      }
    },
    {
      "cell_type": "code",
      "source": [
        "import string\n",
        "import random\n",
        "\n",
        "for _ in range(100):\n",
        "    length = random.randint(4, 10)\n",
        "    random_string = ''.join(random.choices(string.ascii_lowercase, k=length))\n",
        "    print(random_string)"
      ],
      "metadata": {
        "id": "pUbMHKH_c_zF",
        "colab": {
          "base_uri": "https://localhost:8080/"
        },
        "outputId": "83df2d1f-5339-4a21-916d-a41b58e6edf8"
      },
      "execution_count": 19,
      "outputs": [
        {
          "output_type": "stream",
          "name": "stdout",
          "text": [
            "lstxd\n",
            "wwprlhxms\n",
            "ypyar\n",
            "weiq\n",
            "ajptvjknfv\n",
            "lhkjmhar\n",
            "enrvs\n",
            "vvzjdcwzix\n",
            "elbrni\n",
            "hggmzx\n",
            "ujuipod\n",
            "luukqi\n",
            "wguxqexq\n",
            "rfbmjzq\n",
            "bvezcom\n",
            "kkhpijvhlx\n",
            "yeklyvh\n",
            "dmfoaiqzm\n",
            "ehway\n",
            "bornpl\n",
            "xwnxoavyx\n",
            "yzmguopr\n",
            "ackorj\n",
            "svcdflad\n",
            "qvurgsilic\n",
            "dxgwjr\n",
            "ozqiq\n",
            "xxfzfadm\n",
            "zghoh\n",
            "dohsypwjlk\n",
            "iufg\n",
            "czxcmolv\n",
            "rgmhglpgz\n",
            "rrqf\n",
            "zckxhcfn\n",
            "kavbesxvcz\n",
            "xajrfi\n",
            "qluasv\n",
            "fxhmcfq\n",
            "hcdhhrjtnl\n",
            "xipl\n",
            "trglmhcneh\n",
            "sspdelbj\n",
            "bxoldza\n",
            "cqctk\n",
            "kpubwt\n",
            "gptvwm\n",
            "chegy\n",
            "kssrb\n",
            "efplcb\n",
            "oavznimx\n",
            "sdijl\n",
            "oaahfy\n",
            "ibruznc\n",
            "hmbl\n",
            "wqfwwedrrj\n",
            "iuxiyjaeqb\n",
            "nmouiu\n",
            "ntzltsjb\n",
            "jptkxlguwv\n",
            "yinwwolafq\n",
            "kjszfd\n",
            "slxk\n",
            "xhznye\n",
            "nhdbazl\n",
            "eufqprz\n",
            "ygamdj\n",
            "ebtvoz\n",
            "rhnghks\n",
            "balcyopft\n",
            "pcgjl\n",
            "ntyjssixr\n",
            "maar\n",
            "dpkwdhk\n",
            "exdsiw\n",
            "amcredvx\n",
            "mgnkyul\n",
            "kbcbhl\n",
            "kkhcbrns\n",
            "obstxwhd\n",
            "qjju\n",
            "tsufc\n",
            "tebaruzi\n",
            "pplo\n",
            "dybcfsvr\n",
            "icxnxu\n",
            "fypmem\n",
            "xzud\n",
            "rrofn\n",
            "ubuideht\n",
            "lwfgkjoz\n",
            "rwqvx\n",
            "vuzfd\n",
            "ohrdxmt\n",
            "pxpkhxsj\n",
            "ailbxzz\n",
            "qoalma\n",
            "ziwsss\n",
            "kfkszsa\n",
            "nvsl\n"
          ]
        }
      ]
    },
    {
      "cell_type": "markdown",
      "source": [
        "2. WAP to print all prime numbers between 600 and 800."
      ],
      "metadata": {
        "id": "g-xA1M-UdBUA"
      }
    },
    {
      "cell_type": "code",
      "source": [
        "for num in range(600, 801):\n",
        "   if num > 1:\n",
        "       for i in range(2, num):\n",
        "           if (num % i) == 0:\n",
        "               break\n",
        "       else:\n",
        "           print(num)"
      ],
      "metadata": {
        "id": "VstBHNljdHy0",
        "colab": {
          "base_uri": "https://localhost:8080/"
        },
        "outputId": "43bcc97a-1173-4350-b695-37632b4261b0"
      },
      "execution_count": 20,
      "outputs": [
        {
          "output_type": "stream",
          "name": "stdout",
          "text": [
            "601\n",
            "607\n",
            "613\n",
            "617\n",
            "619\n",
            "631\n",
            "641\n",
            "643\n",
            "647\n",
            "653\n",
            "659\n",
            "661\n",
            "673\n",
            "677\n",
            "683\n",
            "691\n",
            "701\n",
            "709\n",
            "719\n",
            "727\n",
            "733\n",
            "739\n",
            "743\n",
            "751\n",
            "757\n",
            "761\n",
            "769\n",
            "773\n",
            "787\n",
            "797\n"
          ]
        }
      ]
    },
    {
      "cell_type": "markdown",
      "source": [
        "3. WAP to print all numbers between 100 and 1000 that are divisible by 7 and 9."
      ],
      "metadata": {
        "id": "XFc88hzkdH56"
      }
    },
    {
      "cell_type": "code",
      "source": [
        "for i in range(100,1001):\n",
        "  if (i%7==0 and i%9==0):\n",
        "    print(i)"
      ],
      "metadata": {
        "id": "CzBE5pBUdPsW",
        "colab": {
          "base_uri": "https://localhost:8080/"
        },
        "outputId": "24e56302-81d9-4b9a-c744-caa3ddc50a09"
      },
      "execution_count": 21,
      "outputs": [
        {
          "output_type": "stream",
          "name": "stdout",
          "text": [
            "126\n",
            "189\n",
            "252\n",
            "315\n",
            "378\n",
            "441\n",
            "504\n",
            "567\n",
            "630\n",
            "693\n",
            "756\n",
            "819\n",
            "882\n",
            "945\n"
          ]
        }
      ]
    },
    {
      "cell_type": "markdown",
      "source": [
        "Q5) WAP to create two lists of 10 random numbers between 10 and 30. \n",
        "\n",
        "Find "
      ],
      "metadata": {
        "id": "Gd0JpHXMdP6w"
      }
    },
    {
      "cell_type": "code",
      "source": [
        "import random\n",
        "list1 = []\n",
        "list2 = []\n",
        "for i in range(10):\n",
        "  list1.append(random.randint(10,30))\n",
        "  list2.append(random.randint(10,30))"
      ],
      "metadata": {
        "id": "IMJTerJOwzFk"
      },
      "execution_count": 23,
      "outputs": []
    },
    {
      "cell_type": "markdown",
      "source": [
        "\n",
        "\n",
        "1.   Common numbers in the two lists\n",
        "\n",
        "\n"
      ],
      "metadata": {
        "id": "HPdOOp96dX7L"
      }
    },
    {
      "cell_type": "code",
      "source": [
        "common_numbers = []\n",
        "print(\"List 1:\", list1)\n",
        "print(\"List 2:\", list2)\n",
        "for num in list1:\n",
        "  if num in list2:\n",
        "    common_numbers.append(num)\n",
        "print(\"Common numbers in the two lists are:\", common_numbers)"
      ],
      "metadata": {
        "id": "CSuq_Ca4ddX3",
        "colab": {
          "base_uri": "https://localhost:8080/"
        },
        "outputId": "b9c176f4-0f03-4747-9a0c-d845710bfe62"
      },
      "execution_count": 26,
      "outputs": [
        {
          "output_type": "stream",
          "name": "stdout",
          "text": [
            "List 1: [25, 12, 11, 16, 23, 12, 17, 10, 28, 19]\n",
            "List 2: [23, 10, 29, 19, 13, 10, 13, 18, 23, 27]\n",
            "Common numbers in the two lists are: [23, 10, 19]\n"
          ]
        }
      ]
    },
    {
      "cell_type": "markdown",
      "source": [
        "\n",
        "\n",
        "2.   Unique numbers in both the list\n",
        "\n"
      ],
      "metadata": {
        "id": "Nx_LTqOTddsu"
      }
    },
    {
      "cell_type": "code",
      "source": [
        "common_numbers = set(list1).intersection(set(list2))\n",
        "print(\"List 1:\", list1)\n",
        "print(\"List 2:\", list2)\n",
        "print(\"Unique numbers in both the lists are:\", common_numbers)"
      ],
      "metadata": {
        "id": "cdQOmiROdhlU",
        "colab": {
          "base_uri": "https://localhost:8080/"
        },
        "outputId": "2c29e221-db90-44e8-b712-1f81af1befd3"
      },
      "execution_count": 25,
      "outputs": [
        {
          "output_type": "stream",
          "name": "stdout",
          "text": [
            "List 1: [25, 12, 11, 16, 23, 12, 17, 10, 28, 19]\n",
            "List 2: [23, 10, 29, 19, 13, 10, 13, 18, 23, 27]\n",
            "Unique numbers in both the lists are: {10, 19, 23}\n"
          ]
        }
      ]
    },
    {
      "cell_type": "markdown",
      "source": [
        "\n",
        "\n",
        "3.   Minimum in both the list\n",
        "\n"
      ],
      "metadata": {
        "id": "VeEwohdSdh5M"
      }
    },
    {
      "cell_type": "code",
      "source": [
        "print(\"List 1:\", list1)\n",
        "print(\"List 2:\", list2)\n",
        "min1 = min(list1)\n",
        "min2 = min(list2)\n",
        "print(\"Minimum in List 1:\", min1)\n",
        "print(\"Minimum in List 2:\", min2)"
      ],
      "metadata": {
        "id": "5dkBod6ldmqA",
        "colab": {
          "base_uri": "https://localhost:8080/"
        },
        "outputId": "fc264346-acea-4d32-df02-92c0c6b1528e"
      },
      "execution_count": 31,
      "outputs": [
        {
          "output_type": "stream",
          "name": "stdout",
          "text": [
            "List 1: [25, 12, 11, 16, 23, 12, 17, 10, 28, 19]\n",
            "List 2: [23, 10, 29, 19, 13, 10, 13, 18, 23, 27]\n",
            "Minimum in List 1: 10\n",
            "Minimum in List 2: 10\n"
          ]
        }
      ]
    },
    {
      "cell_type": "markdown",
      "source": [
        "\n",
        "\n",
        "4.   Maximum in both the list\n",
        "\n"
      ],
      "metadata": {
        "id": "npUhaMXbdpvf"
      }
    },
    {
      "cell_type": "code",
      "source": [
        "print(\"List 1:\", list1)\n",
        "print(\"List 2:\", list2)\n",
        "max1 = max(list1)\n",
        "max2 = max(list2)\n",
        "print(\"Maximum of List 1 is:\", max1)\n",
        "print(\"Maximum of List 2 is:\", max2)"
      ],
      "metadata": {
        "id": "kKurJlWVdtai",
        "colab": {
          "base_uri": "https://localhost:8080/"
        },
        "outputId": "d7dcba14-a5ad-4de8-c370-56a582236692"
      },
      "execution_count": 33,
      "outputs": [
        {
          "output_type": "stream",
          "name": "stdout",
          "text": [
            "List 1: [25, 12, 11, 16, 23, 12, 17, 10, 28, 19]\n",
            "List 2: [23, 10, 29, 19, 13, 10, 13, 18, 23, 27]\n",
            "Maximum of List 1 is: 28\n",
            "Maximum of List 2 is: 29\n"
          ]
        }
      ]
    },
    {
      "cell_type": "markdown",
      "source": [
        "\n",
        "\n",
        "5.       Sum of both the lists\n",
        "\n"
      ],
      "metadata": {
        "id": "9umYqk-ndthN"
      }
    },
    {
      "cell_type": "code",
      "source": [
        "for i in range(10):\n",
        "  list1.append(random.randint(10,30))\n",
        "  list2.append(random.randint(10,30))\n",
        "sum1 = sum(list1)\n",
        "sum2 = sum(list2)\n",
        "print(\"Sum of List 1 is:\", sum1)\n",
        "print(\"Sum of List 2 is:\", sum2)"
      ],
      "metadata": {
        "id": "o0iZgii4dwhM",
        "colab": {
          "base_uri": "https://localhost:8080/"
        },
        "outputId": "35f1652a-dc21-44fb-de7a-360bc9d7b8b9"
      },
      "execution_count": 34,
      "outputs": [
        {
          "output_type": "stream",
          "name": "stdout",
          "text": [
            "Sum of List 1 is: 371\n",
            "Sum of List 2 is: 382\n"
          ]
        }
      ]
    },
    {
      "cell_type": "markdown",
      "source": [
        "Q6) WAP to create a list of 100 random numbers between 100 and 900. Count and print the:"
      ],
      "metadata": {
        "id": "V5KM43zqd2tU"
      }
    },
    {
      "cell_type": "code",
      "source": [
        "import random\n",
        "\n",
        "numbers = [random.randint(100, 900) for _ in range(100)]\n",
        "\n",
        "print(\"List of random numbers:\", numbers)"
      ],
      "metadata": {
        "colab": {
          "base_uri": "https://localhost:8080/"
        },
        "id": "-Cl3e2aAy2bI",
        "outputId": "4d32c576-c390-416e-f970-1c5402685168"
      },
      "execution_count": 41,
      "outputs": [
        {
          "output_type": "stream",
          "name": "stdout",
          "text": [
            "List of random numbers: [852, 565, 499, 631, 305, 151, 399, 217, 878, 288, 878, 221, 501, 306, 553, 164, 892, 349, 453, 231, 595, 235, 171, 261, 414, 528, 179, 769, 379, 871, 230, 749, 203, 268, 741, 507, 248, 844, 149, 546, 694, 439, 258, 259, 127, 640, 567, 570, 690, 538, 128, 176, 288, 499, 246, 378, 651, 182, 333, 136, 568, 779, 435, 769, 329, 319, 228, 353, 687, 267, 595, 731, 855, 835, 585, 478, 744, 220, 592, 643, 185, 511, 690, 166, 636, 623, 844, 785, 874, 454, 154, 127, 700, 787, 558, 654, 490, 520, 131, 472]\n"
          ]
        }
      ]
    },
    {
      "cell_type": "markdown",
      "source": [
        "\n",
        "\n",
        "1.   All odd numbers\n"
      ],
      "metadata": {
        "id": "WhU_GHczd6uq"
      }
    },
    {
      "cell_type": "code",
      "source": [
        "odd_numbers = [num for num in numbers if num % 2 != 0]\n",
        "count_odd = len(odd_numbers)\n",
        "print(\"Odd numbers:\", odd_numbers)\n",
        "print(\"Count of odd numbers:\", count_odd)"
      ],
      "metadata": {
        "id": "fCNvUROCd-DY",
        "colab": {
          "base_uri": "https://localhost:8080/"
        },
        "outputId": "8ec37a02-58e9-414d-d4c6-b2293feaae6a"
      },
      "execution_count": 43,
      "outputs": [
        {
          "output_type": "stream",
          "name": "stdout",
          "text": [
            "Odd numbers: [565, 499, 631, 305, 151, 399, 217, 221, 501, 553, 349, 453, 231, 595, 235, 171, 261, 179, 769, 379, 871, 749, 203, 741, 507, 149, 439, 259, 127, 567, 499, 651, 333, 779, 435, 769, 329, 319, 353, 687, 267, 595, 731, 855, 835, 585, 643, 185, 511, 623, 785, 127, 787, 131]\n",
            "Count of odd numbers: 54\n"
          ]
        }
      ]
    },
    {
      "cell_type": "markdown",
      "source": [
        "\n",
        "\n",
        "\n",
        "2.   All even numbers\n",
        "\n"
      ],
      "metadata": {
        "id": "3i_INGLad-Ij"
      }
    },
    {
      "cell_type": "code",
      "source": [
        "even_numbers = [num for num in numbers if num % 2 == 0]\n",
        "count_even = len(even_numbers)\n",
        "print(\"Even numbers:\", even_numbers)\n",
        "print(\"Count of even numbers:\", count_even)"
      ],
      "metadata": {
        "id": "RenYN4MzeCJ5"
      },
      "execution_count": null,
      "outputs": []
    },
    {
      "cell_type": "markdown",
      "source": [
        "\n",
        "\n",
        "\n",
        "3.   All prime numbers\n",
        "\n"
      ],
      "metadata": {
        "id": "t1fEVzNyeCUh"
      }
    },
    {
      "cell_type": "code",
      "source": [
        "def is_prime(num):\n",
        "    if num < 2:\n",
        "        return False\n",
        "    for i in range(2, int(num ** 0.5) + 1):\n",
        "        if num % i == 0:\n",
        "            return False\n",
        "    return True\n",
        "\n",
        "prime_numbers = [num for num in numbers if is_prime(num)]\n",
        "count_prime = len(prime_numbers)\n",
        "print(\"Prime numbers:\", prime_numbers)\n",
        "print(\"No. of prime numbers:\", count_prime)"
      ],
      "metadata": {
        "id": "K03jDNeKeEo9",
        "colab": {
          "base_uri": "https://localhost:8080/"
        },
        "outputId": "83eaa6f2-3334-4d8e-a559-b6843334ebdb"
      },
      "execution_count": 45,
      "outputs": [
        {
          "output_type": "stream",
          "name": "stdout",
          "text": [
            "Prime numbers: [499, 631, 151, 349, 179, 769, 379, 149, 439, 127, 499, 769, 353, 643, 127, 787, 131]\n",
            "No. of prime numbers: 17\n"
          ]
        }
      ]
    },
    {
      "cell_type": "markdown",
      "source": [
        "Q7) D is a dictionary defined as D={1:\"One\",2:\"Two\",3:\"Three\",4:\"Four\", 5:\"Five\"}. \n",
        "WAP to read all the keys and values from dictionary and write to the file in the given below format.\n",
        "\n",
        "Key1, Value1\n",
        "\n",
        "Key2, Value2\n",
        "\n",
        "Key3, Value3"
      ],
      "metadata": {
        "id": "C_6-0KlreEym"
      }
    },
    {
      "cell_type": "code",
      "source": [
        "\n",
        "D = {1: \"One\", 2: \"Two\", 3: \"Three\", 4: \"Four\", 5: \"Five\"}\n",
        "with open('output.txt', 'w') as f:\n",
        "    for key, value in D.items():\n",
        "        f.write(f'{key}, {value}\\n')"
      ],
      "metadata": {
        "id": "quaTluQkeRjv"
      },
      "execution_count": null,
      "outputs": []
    },
    {
      "cell_type": "markdown",
      "source": [
        "Q8) L is a list defined as L={\"One\",\"Two\",\"Three\",\"Four\",\"Five\"}.\n",
        "\n",
        "WAP to count the length of reach element from a list and write to the file in the given below format: \n",
        "\n",
        "One, 3\n",
        "\n",
        "Two, 3 \n",
        "\n",
        "Four, 4"
      ],
      "metadata": {
        "id": "Ki9n2VroeSQP"
      }
    },
    {
      "cell_type": "code",
      "source": [
        "L = [\"One\", \"Two\", \"Three\", \"Four\", \"Five\"]\n",
        "\n",
        "with open(\"output.txt\", \"w\") as file:\n",
        "    \n",
        "    for element in L:\n",
        "   \n",
        "        length = len(element)\n",
        "   \n",
        "        file.write(f\"{element}, {length}\\n\")"
      ],
      "metadata": {
        "id": "pZgzepa9eV1j"
      },
      "execution_count": null,
      "outputs": []
    },
    {
      "cell_type": "markdown",
      "source": [
        "Q9) Write to the file 100 random strings whose length between 10 and 15."
      ],
      "metadata": {
        "id": "G9jr1_IGeaq8"
      }
    },
    {
      "cell_type": "code",
      "source": [
        "import random\n",
        "import string\n",
        "\n",
        "random_strings = [''.join(random.choices(string.ascii_lowercase, k=random.randint(10, 15))) for _ in range(100)]\n",
        "\n",
        "with open(\"random_strings.txt\", \"w\") as file:\n",
        "    \n",
        "    for string in random_strings:\n",
        "        file.write(string + \"\\n\")"
      ],
      "metadata": {
        "id": "N0ayg8pGedod"
      },
      "execution_count": 46,
      "outputs": []
    },
    {
      "cell_type": "markdown",
      "source": [
        "Q10) Write to the file all prime numbers between 600 and 800."
      ],
      "metadata": {
        "id": "GaIPmdOxed8V"
      }
    },
    {
      "cell_type": "code",
      "source": [
        "with open('prime_numbers.txt', 'w') as f:\n",
        "    for num in range(600, 801):\n",
        "        if num > 1:\n",
        "            for i in range(2, num):\n",
        "                if (num % i) == 0:\n",
        "                    break\n",
        "            else:\n",
        "                f.write(str(num) + '\\n')"
      ],
      "metadata": {
        "id": "YnNO1nA1eiyH"
      },
      "execution_count": 49,
      "outputs": []
    },
    {
      "cell_type": "markdown",
      "source": [
        "Q11) WAP to calculate the time taken by a program."
      ],
      "metadata": {
        "id": "NQlKI3Fmei7d"
      }
    },
    {
      "cell_type": "code",
      "source": [
        "import time\n",
        "\n",
        "start_time = time.time()\n",
        "end_time = time.time()\n",
        "time_taken = end_time - start_time\n",
        "\n",
        "print(\"Time taken by the program is:\", time_taken)"
      ],
      "metadata": {
        "id": "CLiTnSlGeo8d",
        "colab": {
          "base_uri": "https://localhost:8080/"
        },
        "outputId": "3daadfb5-bb13-4cf4-d95a-cea69f90362a"
      },
      "execution_count": 48,
      "outputs": [
        {
          "output_type": "stream",
          "name": "stdout",
          "text": [
            "Time taken by the program is: 5.435943603515625e-05\n"
          ]
        }
      ]
    },
    {
      "cell_type": "markdown",
      "source": [
        "Q12) WAP to sort following number of elements in a list, calculate time taken and plot the graph.\n",
        "![assn.jpg](data:image/jpeg;base64,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)"
      ],
      "metadata": {
        "id": "zvKHLtKggPmG"
      }
    },
    {
      "cell_type": "code",
      "source": [],
      "metadata": {
        "id": "j22o8DZ-gTHD"
      },
      "execution_count": null,
      "outputs": []
    },
    {
      "cell_type": "markdown",
      "source": [
        "Q13) WAP to create a dictionary of student marks in five subjects and you have to find the student \n",
        "having maximum and minimum average marks."
      ],
      "metadata": {
        "id": "4bVAj9aagUE7"
      }
    },
    {
      "cell_type": "code",
      "source": [
        "import time\n",
        "start_time = time.time()\n",
        "\n",
        "student_marks = {'Rohit': [90, 85, 80, 75, 70], 'Kushal': [95, 90, 85, 80, 75], 'Armaan': [100, 95, 90, 85, 80]}\n",
        "\n",
        "#max average marks\n",
        "max_avg = 0\n",
        "for student in student_marks:\n",
        "    avg = sum(student_marks[student])/len(student_marks[student])\n",
        "    if avg > max_avg:\n",
        "        max_avg = avg\n",
        "        max_student = student\n",
        "print(\"The student with maximum average marks is\", max_student)\n",
        "\n",
        "#min average marks\n",
        "min_avg = 100\n",
        "for student in student_marks:\n",
        "    avg = sum(student_marks[student])/len(student_marks[student])\n",
        "    if avg < min_avg:\n",
        "        min_avg = avg\n",
        "        min_student = student\n",
        "print(\"The student with minimum average marks is\", min_student)\n",
        "\n",
        "end_time = time.time()\n",
        "time_taken = end_time - start_time\n",
        "print(\"Time taken by the program is:\", time_taken)"
      ],
      "metadata": {
        "colab": {
          "base_uri": "https://localhost:8080/"
        },
        "id": "LbqPAmM3gWrq",
        "outputId": "4fd72c9c-ef00-4dcf-e362-2107ef538c6f"
      },
      "execution_count": 50,
      "outputs": [
        {
          "output_type": "stream",
          "name": "stdout",
          "text": [
            "The student with maximum average marks is Armaan\n",
            "The student with minimum average marks is Rohit\n",
            "Time taken by the program is: 0.0037527084350585938\n"
          ]
        }
      ]
    }
  ]
}