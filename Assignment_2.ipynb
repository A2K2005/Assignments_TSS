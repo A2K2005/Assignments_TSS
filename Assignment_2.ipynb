{
  "nbformat": 4,
  "nbformat_minor": 0,
  "metadata": {
    "colab": {
      "provenance": [],
      "authorship_tag": "ABX9TyNtYelK6if4IO5QviLxyEMn",
      "include_colab_link": true
    },
    "kernelspec": {
      "name": "python3",
      "display_name": "Python 3"
    },
    "language_info": {
      "name": "python"
    }
  },
  "cells": [
    {
      "cell_type": "markdown",
      "metadata": {
        "id": "view-in-github",
        "colab_type": "text"
      },
      "source": [
        "<a href=\"https://colab.research.google.com/github/A2K2005/Assignments_TSS/blob/main/Assignment_2.ipynb\" target=\"_parent\"><img src=\"https://colab.research.google.com/assets/colab-badge.svg\" alt=\"Open In Colab\"/></a>"
      ]
    },
    {
      "cell_type": "markdown",
      "source": [
        "# **Challenge Quesiton**"
      ],
      "metadata": {
        "id": "lf6iADbXg4tG"
      }
    },
    {
      "cell_type": "markdown",
      "source": [
        "---\n",
        "1) Write a python program to sort the list of heterogenous data. E.g. \n",
        "L=[\"Ram\",\"1\",\"Shyam\",\"2\",\"Aman\",\"3\"]\n",
        "\n",
        "print(L)\n",
        "\n",
        "L.sort()\n",
        "\n",
        "print(L)\n",
        "\n",
        "\n",
        "---\n",
        "\n",
        "Above code gives error. Correct it \n",
        "\n",
        "\n",
        "\n"
      ],
      "metadata": {
        "id": "kBoJ5zbhhBSk"
      }
    },
    {
      "cell_type": "code",
      "execution_count": null,
      "metadata": {
        "id": "XLDByQkfSz57"
      },
      "outputs": [],
      "source": [
        "L = [\"Ram\", 1, \"Shyam\", 2, \"Aman\", 3]\n",
        "print(\"Original list:\", L)\n",
        "\n",
        "def custom_sort(elem):\n",
        " \n",
        "    if isinstance(elem, int):\n",
        "        return str(elem)\n",
        "    else:\n",
        "        return elem\n",
        "    \n",
        "L.sort(key=custom_sort)\n",
        "print(L)"
      ]
    }
  ]
}